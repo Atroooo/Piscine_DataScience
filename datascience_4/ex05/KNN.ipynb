{
 "cells": [
  {
   "cell_type": "code",
   "execution_count": 4,
   "metadata": {},
   "outputs": [],
   "source": [
    "import os\n",
    "import pandas as pd\n",
    "import matplotlib.pyplot as plt\n",
    "import numpy as np\n",
    "\n",
    "from sklearn.preprocessing import StandardScaler\n",
    "from sklearn.model_selection import train_test_split\n",
    "from sklearn.neighbors import KNeighborsClassifier\n",
    "from sklearn.metrics import accuracy_score, f1_score\n",
    "from sklearn.metrics import precision_recall_fscore_support\n",
    "\n",
    "def load(path: str) -> pd.DataFrame:\n",
    "    \"\"\"Load a CSV file into a Dataset object.\n",
    "\n",
    "    Args:\n",
    "        path (str): path to the CSV file\n",
    "\n",
    "    Returns:\n",
    "        Dataset: object containing the data\n",
    "    \"\"\"\n",
    "    try:\n",
    "        if not path.lower().endswith((\"csv\")):\n",
    "            raise AssertionError(\"Only csv formats are supported.\")\n",
    "        local_dir = os.path.abspath('')\n",
    "        file_path = os.path.join(local_dir, path)\n",
    "        if not os.path.exists(file_path) or os.path.isdir(file_path):\n",
    "            raise AssertionError(\"File not found:\", file_path)\n",
    "        df = pd.read_csv(file_path)\n",
    "        return df\n",
    "    except AssertionError as error:\n",
    "        print(f\"{AssertionError.__name__}: {error}\")\n",
    "        return None"
   ]
  },
  {
   "cell_type": "code",
   "execution_count": 7,
   "metadata": {},
   "outputs": [],
   "source": [
    "train_knight = load(\"/home/lcompieg/sgoinfre/Train_knight.csv\")\n",
    "test_knight = load(\"/home/lcompieg/sgoinfre/Test_knight.csv\")"
   ]
  },
  {
   "cell_type": "code",
   "execution_count": 12,
   "metadata": {},
   "outputs": [],
   "source": [
    "def KNN(train_knight: pd.DataFrame, test_knight: pd.DataFrame) -> None:\n",
    "    x = train_knight[['Power', 'Reactivity', 'Push', 'Lightsaber', 'Repulse', 'Blocking', 'Deflection', 'Evade', 'Combo', 'Attunement']]\n",
    "    # x = train_knight[['Hability', 'Agility', 'Reactivity', 'Push', 'Survival', 'Blocking', 'Deflection', 'Mass', 'Sprint', 'Attunement']]\n",
    "    y = train_knight['knight']\n",
    "    \n",
    "    scaled = StandardScaler()\n",
    "    x = scaled.fit_transform(x)\n",
    "    \n",
    "    X_train, X_test, y_train, y_test = train_test_split(x, y, test_size=0.3, random_state=42)\n",
    "    \n",
    "    knn = KNeighborsClassifier(n_neighbors=2)\n",
    "    knn.fit(X_train, y_train)\n",
    "    \n",
    "    y_pred = knn.predict(X_test)\n",
    "    \n",
    "    # print(precision_recall_fscore_support(y_test, y_pred))\n",
    "    print(f\"F1_score : {f1_score(y_test, y_pred, average='macro')}\")\n",
    "    \n",
    "    x_test =  test_knight[['Power', 'Reactivity', 'Push', 'Lightsaber', 'Repulse', 'Blocking', 'Deflection', 'Evade', 'Combo', 'Attunement']] \n",
    "    x_test = StandardScaler().fit_transform(x_test)\n",
    "    \n",
    "    y_pred_test = knn.predict(x_test)\n",
    "    \n",
    "    with open(\"KNN.txt\", \"w\") as output:\n",
    "          for item in y_pred_test:\n",
    "            output.write(item + \"\\n\")\n",
    "  "
   ]
  },
  {
   "cell_type": "code",
   "execution_count": 13,
   "metadata": {},
   "outputs": [
    {
     "name": "stdout",
     "output_type": "stream",
     "text": [
      "F1_score : 0.948849104859335\n"
     ]
    }
   ],
   "source": [
    "KNN(train_knight, test_knight)"
   ]
  },
  {
   "cell_type": "code",
   "execution_count": 14,
   "metadata": {},
   "outputs": [],
   "source": [
    "accuracy = []\n",
    "\n",
    "x = train_knight[['Power', 'Reactivity', 'Push', 'Lightsaber', 'Repulse', 'Blocking', 'Deflection', 'Evade', 'Combo', 'Attunement']]\n",
    "y = train_knight['knight']\n",
    "\n",
    "scaled = StandardScaler()\n",
    "x = scaled.fit_transform(x)\n",
    "\n",
    "X_train, X_test, y_train, y_test = train_test_split(x, y, test_size=0.3, random_state=42)\n",
    "for k in range(1, 50):\n",
    "    knn = KNeighborsClassifier(n_neighbors=k)\n",
    "    knn.fit(X_train, y_train)\n",
    "    y_pred = knn.predict(X_test)\n",
    "    accuracy.append(accuracy_score(y_test, y_pred))\n",
    "    "
   ]
  },
  {
   "cell_type": "code",
   "execution_count": 15,
   "metadata": {},
   "outputs": [
    {
     "name": "stdout",
     "output_type": "stream",
     "text": [
      "[0.95, 0.95, 0.9333333333333333, 0.925, 0.9333333333333333, 0.9166666666666666, 0.9166666666666666, 0.9166666666666666, 0.9166666666666666, 0.925, 0.9333333333333333, 0.925, 0.9333333333333333, 0.925, 0.925, 0.925, 0.925, 0.925, 0.9166666666666666, 0.9166666666666666, 0.9166666666666666, 0.9166666666666666, 0.9083333333333333, 0.9166666666666666, 0.9083333333333333, 0.9, 0.8916666666666667, 0.8916666666666667, 0.8916666666666667, 0.9, 0.9, 0.9, 0.9, 0.9, 0.8916666666666667, 0.8916666666666667, 0.8916666666666667, 0.8916666666666667, 0.8833333333333333, 0.8916666666666667, 0.8916666666666667, 0.8916666666666667, 0.9, 0.8833333333333333, 0.8916666666666667, 0.8916666666666667, 0.8916666666666667, 0.9, 0.8916666666666667]\n"
     ]
    }
   ],
   "source": [
    "print(accuracy)"
   ]
  },
  {
   "cell_type": "code",
   "execution_count": 16,
   "metadata": {},
   "outputs": [
    {
     "data": {
      "text/plain": [
       "Text(0, 0.5, 'Accuracy')"
      ]
     },
     "execution_count": 16,
     "metadata": {},
     "output_type": "execute_result"
    },
    {
     "data": {
      "image/png": "[encoded data removed]",
      "text/plain": [
       "<Figure size 640x480 with 1 Axes>"
      ]
     },
     "metadata": {},
     "output_type": "display_data"
    }
   ],
   "source": [
    "plt.plot(range(1, 50), accuracy)\n",
    "plt.xlabel('K')\n",
    "plt.ylabel('Accuracy')"
   ]
  },
  {
   "cell_type": "code",
   "execution_count": null,
   "metadata": {},
   "outputs": [],
   "source": []
  }
 ],
 "metadata": {
  "kernelspec": {
   "display_name": "Python 3",
   "language": "python",
   "name": "python3"
  },
  "language_info": {
   "codemirror_mode": {
    "name": "ipython",
    "version": 3
   },
   "file_extension": ".py",
   "mimetype": "text/x-python",
   "name": "python",
   "nbconvert_exporter": "python",
   "pygments_lexer": "ipython3",
   "version": "3.10.12"
  }
 },
 "nbformat": 4,
 "nbformat_minor": 2
}
