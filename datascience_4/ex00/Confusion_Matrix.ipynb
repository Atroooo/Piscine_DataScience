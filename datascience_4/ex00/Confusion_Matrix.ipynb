{
 "cells": [
  {
   "cell_type": "code",
   "execution_count": 2,
   "metadata": {},
   "outputs": [],
   "source": [
    "import pandas as pd\n",
    "import matplotlib.pyplot as plt\n",
    "import numpy as np \n",
    "import os\n",
    "\n"
   ]
  },
  {
   "cell_type": "code",
   "execution_count": 57,
   "metadata": {},
   "outputs": [],
   "source": [
    "prediction = np.loadtxt(\"../predictions.txt\", dtype=str)\n",
    "truth = np.loadtxt(\"../truth.txt\", dtype=str)"
   ]
  },
  {
   "cell_type": "code",
   "execution_count": 58,
   "metadata": {},
   "outputs": [],
   "source": [
    "for i in range(len(truth)):\n",
    "    if (truth[i] == 'Sith'):\n",
    "        truth[i] = 0\n",
    "    else:\n",
    "        truth[i] = 1\n",
    "\n",
    "for i in range(len(prediction)):\n",
    "    if (prediction[i] == 'Sith'):\n",
    "        prediction[i] = 0\n",
    "    else:\n",
    "        prediction[i] = 1"
   ]
  },
  {
   "cell_type": "code",
   "execution_count": 75,
   "metadata": {},
   "outputs": [],
   "source": [
    "def getConfusionMatrix(truth: np.array, pred: np.array):\n",
    "    Tp = Tn = Fp = Fn = 0\n",
    "    for i in range(len(truth)):\n",
    "        if (truth[i] == \"0\" and pred[i] == \"0\"):\n",
    "            Tn += 1\n",
    "        elif (truth[i] == \"0\" and pred[i] == \"1\"):\n",
    "            Fp += 1\n",
    "        elif (truth[i] == \"1\" and pred[i] == \"1\"):\n",
    "            Tp += 1\n",
    "        elif (truth[i] == \"1\" and pred[i] == \"0\"):\n",
    "            Fn += 1\n",
    "    accuracy = (Tp + Tn) / (Tp + Tn + Fp + Fn)\n",
    "    pres = (Tp / (Tp + Fp))\n",
    "    recall = (Tp / (Tp + Fn))\n",
    "    f1_score = (2 * Tp) / (2 * Tp + Fp + Fn)\n",
    "    return [[Tp, Fn], [Fp, Tn]]"
   ]
  },
  {
   "cell_type": "code",
   "execution_count": 76,
   "metadata": {},
   "outputs": [],
   "source": [
    "conf_matrix = getConfusionMatrix(truth, prediction)\n"
   ]
  },
  {
   "cell_type": "code",
   "execution_count": 77,
   "metadata": {},
   "outputs": [
    {
     "name": "stdout",
     "output_type": "stream",
     "text": [
      "[[25, 24], [30, 21]]\n"
     ]
    }
   ],
   "source": [
    "print(conf_matrix)"
   ]
  },
  {
   "cell_type": "code",
   "execution_count": 78,
   "metadata": {},
   "outputs": [
    {
     "data": {
      "text/plain": [
       "[<matplotlib.lines.Line2D at 0x7fbcd2f4c550>,\n",
       " <matplotlib.lines.Line2D at 0x7fbcd2f4c640>]"
      ]
     },
     "execution_count": 78,
     "metadata": {},
     "output_type": "execute_result"
    },
    {
     "data": {
      "image/png": "[encoded data removed]",
      "text/plain": [
       "<Figure size 640x480 with 1 Axes>"
      ]
     },
     "metadata": {},
     "output_type": "display_data"
    }
   ],
   "source": [
    "plt.plot(conf_matrix)"
   ]
  },
  {
   "cell_type": "code",
   "execution_count": 65,
   "metadata": {},
   "outputs": [],
   "source": [
    "from sklearn.metrics import confusion_matrix\n",
    "conf = confusion_matrix(truth, prediction)"
   ]
  },
  {
   "cell_type": "code",
   "execution_count": 67,
   "metadata": {},
   "outputs": [
    {
     "name": "stdout",
     "output_type": "stream",
     "text": [
      "[[21 30]\n",
      " [24 25]]\n"
     ]
    }
   ],
   "source": [
    "print(conf)"
   ]
  },
  {
   "cell_type": "code",
   "execution_count": null,
   "metadata": {},
   "outputs": [],
   "source": []
  }
 ],
 "metadata": {
  "kernelspec": {
   "display_name": "venv",
   "language": "python",
   "name": "python3"
  },
  "language_info": {
   "codemirror_mode": {
    "name": "ipython",
    "version": 3
   },
   "file_extension": ".py",
   "mimetype": "text/x-python",
   "name": "python",
   "nbconvert_exporter": "python",
   "pygments_lexer": "ipython3",
   "version": "3.10.12"
  }
 },
 "nbformat": 4,
 "nbformat_minor": 2
}
