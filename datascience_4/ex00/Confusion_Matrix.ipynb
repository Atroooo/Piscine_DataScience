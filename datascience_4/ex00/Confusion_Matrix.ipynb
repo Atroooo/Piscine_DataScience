{
 "cells": [
  {
   "cell_type": "code",
   "execution_count": 1,
   "metadata": {},
   "outputs": [],
   "source": [
    "import pandas as pd\n",
    "import numpy as np \n",
    "import matplotlib.pyplot as plt\n",
    "import seaborn as sns\n",
    "import os\n",
    "from sklearn.metrics import ConfusionMatrixDisplay"
   ]
  },
  {
   "cell_type": "code",
   "execution_count": 2,
   "metadata": {},
   "outputs": [],
   "source": [
    "prediction = np.loadtxt(\"../predictions.txt\", dtype=str)\n",
    "truth = np.loadtxt(\"../truth.txt\", dtype=str)"
   ]
  },
  {
   "cell_type": "code",
   "execution_count": 3,
   "metadata": {},
   "outputs": [],
   "source": [
    "def transform_labels(labels):\n",
    "    for i in range(len(labels)):\n",
    "        if (labels[i] == 'Sith'):\n",
    "            labels[i] = 0\n",
    "        else:\n",
    "            labels[i] = 1\n",
    "    return labels\n",
    "\n",
    "\n",
    "truth = transform_labels(truth)\n",
    "prediction = transform_labels(prediction)"
   ]
  },
  {
   "cell_type": "code",
   "execution_count": 4,
   "metadata": {},
   "outputs": [],
   "source": [
    "def getConfusionMatrix(truth: np.array, pred: np.array):\n",
    "    Tp = Tn = Fp = Fn = 0\n",
    "    for i in range(len(truth)):\n",
    "        if (truth[i] == \"0\" and pred[i] == \"0\"):\n",
    "            Tn += 1\n",
    "        elif (truth[i] == \"0\" and pred[i] == \"1\"):\n",
    "            Fp += 1\n",
    "        elif (truth[i] == \"1\" and pred[i] == \"1\"):\n",
    "            Tp += 1\n",
    "        elif (truth[i] == \"1\" and pred[i] == \"0\"):\n",
    "            Fn += 1\n",
    "    accuracy = (Tp + Tn) / (Tp + Tn + Fp + Fn)\n",
    "    pres = (Tp / (Tp + Fp))\n",
    "    recall = (Tp / (Tp + Fn))\n",
    "    f1_score = (2 * Tp) / (2 * Tp + Fp + Fn)\n",
    "    \n",
    "    return [[Tp, Fn], [Fp, Tn]], (accuracy, pres, recall, f1_score)"
   ]
  },
  {
   "cell_type": "code",
   "execution_count": 5,
   "metadata": {},
   "outputs": [
    {
     "name": "stdout",
     "output_type": "stream",
     "text": [
      "[[25, 24], [30, 21]]\n"
     ]
    }
   ],
   "source": [
    "conf_matrix, stats = getConfusionMatrix(truth, prediction)\n",
    "print(conf_matrix)"
   ]
  },
  {
   "cell_type": "code",
   "execution_count": 6,
   "metadata": {},
   "outputs": [
    {
     "data": {
      "text/plain": [
       "<Axes: >"
      ]
     },
     "execution_count": 6,
     "metadata": {},
     "output_type": "execute_result"
    },
    {
     "data": {
      "image/png": "[encoded data removed]",
      "text/plain": [
       "<Figure size 640x480 with 2 Axes>"
      ]
     },
     "metadata": {},
     "output_type": "display_data"
    }
   ],
   "source": [
    "sns.heatmap(conf_matrix, annot=True, fmt='d')"
   ]
  },
  {
   "cell_type": "code",
   "execution_count": 7,
   "metadata": {},
   "outputs": [],
   "source": [
    "class_recall = []\n",
    "for class_ in np.unique(truth):\n",
    "    class_acc = np.mean(prediction[truth == class_] == class_)\n",
    "    class_recall.append(class_acc)"
   ]
  },
  {
   "cell_type": "code",
   "execution_count": 12,
   "metadata": {},
   "outputs": [],
   "source": [
    "prec2 = 1 - (conf_matrix[1][0] / (conf_matrix[1][0] + conf_matrix[0][0]))"
   ]
  },
  {
   "cell_type": "code",
   "execution_count": 9,
   "metadata": {},
   "outputs": [],
   "source": [
    "f1_score2 = 1 - (2 * conf_matrix[1][0]) / (2 * conf_matrix[1][0] + conf_matrix[0][0] + conf_matrix[0][1])"
   ]
  },
  {
   "cell_type": "code",
   "execution_count": 13,
   "metadata": {},
   "outputs": [
    {
     "name": "stdout",
     "output_type": "stream",
     "text": [
      "Jedi \n",
      "precision: 0.45, recall: 0.51, F1 score: 0.48, total 49\n",
      "Sith \n",
      "precision: 0.45, recall: 0.41, F1 score: 0.45, total 51\n",
      "Global accuracy: 0.46\n"
     ]
    }
   ],
   "source": [
    "print(f\"Jedi \\nprecision: {round(stats[1], 2)}, recall: {round(stats[2], 2)}, F1 score: {round(stats[3], 2)}, total\", conf_matrix[0][0] + conf_matrix[0][1])\n",
    "print(f\"Sith \\nprecision: {round(prec2, 2)}, recall: {round(class_recall[0], 2)}, F1 score: {round(f1_score2, 2)}, total\", conf_matrix[1][0] + conf_matrix[1][1])\n",
    "print(f\"Global accuracy: {stats[0]}\")"
   ]
  },
  {
   "cell_type": "code",
   "execution_count": 11,
   "metadata": {},
   "outputs": [
    {
     "data": {
      "text/plain": [
       "(array([0.46666667, 0.45454545]),\n",
       " array([0.41176471, 0.51020408]),\n",
       " array([0.4375    , 0.48076923]),\n",
       " array([51, 49], dtype=int64))"
      ]
     },
     "execution_count": 11,
     "metadata": {},
     "output_type": "execute_result"
    }
   ],
   "source": [
    "from sklearn.metrics import precision_recall_fscore_support\n",
    "precision_recall_fscore_support(truth, prediction)"
   ]
  },
  {
   "cell_type": "code",
   "execution_count": null,
   "metadata": {},
   "outputs": [],
   "source": []
  }
 ],
 "metadata": {
  "kernelspec": {
   "display_name": "venv",
   "language": "python",
   "name": "python3"
  },
  "language_info": {
   "codemirror_mode": {
    "name": "ipython",
    "version": 3
   },
   "file_extension": ".py",
   "mimetype": "text/x-python",
   "name": "python",
   "nbconvert_exporter": "python",
   "pygments_lexer": "ipython3",
   "version": "3.11.4"
  }
 },
 "nbformat": 4,
 "nbformat_minor": 2
}
