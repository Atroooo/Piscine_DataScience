{
 "cells": [
  {
   "cell_type": "code",
   "execution_count": 1,
   "metadata": {},
   "outputs": [],
   "source": [
    "import os\n",
    "import pandas as pd\n",
    "import seaborn as sns\n",
    "import matplotlib.pyplot as plt\n",
    "import numpy as np\n",
    "\n",
    "from sklearn.preprocessing import StandardScaler\n",
    "from sklearn.model_selection import train_test_split\n",
    "from sklearn.metrics import accuracy_score, f1_score\n",
    "\n",
    "from sklearn.ensemble import VotingClassifier\n",
    "from sklearn.linear_model import LogisticRegression\n",
    "from sklearn.tree import DecisionTreeClassifier\n",
    "from sklearn.neighbors import KNeighborsClassifier\n",
    "\n",
    "def load(path: str) -> pd.DataFrame:\n",
    "    \"\"\"Load a CSV file into a Dataset object.\n",
    "\n",
    "    Args:\n",
    "        path (str): path to the CSV file\n",
    "\n",
    "    Returns:\n",
    "        Dataset: object containing the data\n",
    "    \"\"\"\n",
    "    try:\n",
    "        if not path.lower().endswith((\"csv\")):\n",
    "            raise AssertionError(\"Only csv formats are supported.\")\n",
    "        local_dir = os.path.abspath('')\n",
    "        file_path = os.path.join(local_dir, path)\n",
    "        if not os.path.exists(file_path) or os.path.isdir(file_path):\n",
    "            raise AssertionError(\"File not found:\", file_path)\n",
    "        df = pd.read_csv(file_path)\n",
    "        return df\n",
    "    except AssertionError as error:\n",
    "        print(f\"{AssertionError.__name__}: {error}\")\n",
    "        return None"
   ]
  },
  {
   "cell_type": "code",
   "execution_count": 2,
   "metadata": {},
   "outputs": [],
   "source": [
    "train_knight = load(\"/home/lcompieg/sgoinfre/Train_knight.csv\")\n",
    "test_knight = load(\"/home/lcompieg/sgoinfre/Test_knight.csv\")"
   ]
  },
  {
   "cell_type": "code",
   "execution_count": 3,
   "metadata": {},
   "outputs": [],
   "source": [
    "def voting(train_knight: pd.DataFrame, test_knight: pd.DataFrame) -> None:\n",
    "    x = train_knight[['Power', 'Reactivity', 'Push', 'Lightsaber', 'Repulse', 'Blocking', 'Deflection', 'Evade', 'Combo', 'Attunement']]\n",
    "    # x = train_knight[['Hability', 'Agility', 'Reactivity', 'Push', 'Survival', 'Blocking', 'Deflection', 'Mass', 'Sprint', 'Attunement']]\n",
    "    y = train_knight['knight']\n",
    "    \n",
    "    scaled = StandardScaler()\n",
    "    x = scaled.fit_transform(x)\n",
    "    \n",
    "    X_train, X_test, y_train, y_test = train_test_split(x, y, test_size=0.3, random_state=42)\n",
    "    \n",
    "    base_learners = [\n",
    "        ('logistic', LogisticRegression(solver='lbfgs')),\n",
    "        ('knn', KNeighborsClassifier(n_neighbors=2)),\n",
    "        ('decision_tree', DecisionTreeClassifier(random_state=42))\n",
    "    ]\n",
    "    \n",
    "    vtg = VotingClassifier(estimators=base_learners, voting='hard')\n",
    "    \n",
    "    vtg.fit(x, y)\n",
    "    y_pred = vtg.predict(X_test)\n",
    "    \n",
    "    print(f\"F1_score : {f1_score(y_test, y_pred, average='macro')}\")\n",
    "    \n",
    "    x_test =  test_knight[['Power', 'Reactivity', 'Push', 'Lightsaber', 'Repulse', 'Blocking', 'Deflection', 'Evade', 'Combo', 'Attunement']] \n",
    "    # x_test = train_knight[['Hability', 'Agility', 'Reactivity', 'Push', 'Survival', 'Blocking', 'Deflection', 'Mass', 'Sprint', 'Attunement']]\n",
    "    x_test = StandardScaler().fit_transform(x_test)\n",
    "    \n",
    "    y_pred_test = vtg.predict(x_test)\n",
    "    \n",
    "    with open(\"Voting.txt\", \"w\") as output:\n",
    "          for item in y_pred_test:\n",
    "            output.write(item + \"\\n\")\n",
    "  "
   ]
  },
  {
   "cell_type": "code",
   "execution_count": 4,
   "metadata": {},
   "outputs": [
    {
     "name": "stdout",
     "output_type": "stream",
     "text": [
      "F1_score : 1.0\n"
     ]
    }
   ],
   "source": [
    "voting(train_knight, test_knight)"
   ]
  },
  {
   "cell_type": "code",
   "execution_count": null,
   "metadata": {},
   "outputs": [],
   "source": []
  }
 ],
 "metadata": {
  "kernelspec": {
   "display_name": "Python 3",
   "language": "python",
   "name": "python3"
  },
  "language_info": {
   "codemirror_mode": {
    "name": "ipython",
    "version": 3
   },
   "file_extension": ".py",
   "mimetype": "text/x-python",
   "name": "python",
   "nbconvert_exporter": "python",
   "pygments_lexer": "ipython3",
   "version": "3.10.12"
  }
 },
 "nbformat": 4,
 "nbformat_minor": 2
}
