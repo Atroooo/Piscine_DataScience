{
 "cells": [
  {
   "cell_type": "code",
   "execution_count": 1,
   "metadata": {},
   "outputs": [],
   "source": [
    "import os\n",
    "import pandas as pd\n",
    "import seaborn as sns\n",
    "import matplotlib.pyplot as plt\n",
    "import numpy as np\n",
    "\n",
    "from sklearn.preprocessing import StandardScaler\n",
    "from sklearn.model_selection import train_test_split\n",
    "from sklearn.neighbors import KNeighborsClassifier\n",
    "\n",
    "def load(path: str) -> pd.DataFrame:\n",
    "    \"\"\"Load a CSV file into a Dataset object.\n",
    "\n",
    "    Args:\n",
    "        path (str): path to the CSV file\n",
    "\n",
    "    Returns:\n",
    "        Dataset: object containing the data\n",
    "    \"\"\"\n",
    "    try:\n",
    "        if not path.lower().endswith((\"csv\")):\n",
    "            raise AssertionError(\"Only csv formats are supported.\")\n",
    "        local_dir = os.path.abspath('')\n",
    "        file_path = os.path.join(local_dir, path)\n",
    "        if not os.path.exists(file_path) or os.path.isdir(file_path):\n",
    "            raise AssertionError(\"File not found:\", file_path)\n",
    "        df = pd.read_csv(file_path)\n",
    "        return df\n",
    "    except AssertionError as error:\n",
    "        print(f\"{AssertionError.__name__}: {error}\")\n",
    "        return None"
   ]
  },
  {
   "cell_type": "code",
   "execution_count": null,
   "metadata": {},
   "outputs": [],
   "source": []
  }
 ],
 "metadata": {
  "kernelspec": {
   "display_name": "Python 3",
   "language": "python",
   "name": "python3"
  },
  "language_info": {
   "codemirror_mode": {
    "name": "ipython",
    "version": 3
   },
   "file_extension": ".py",
   "mimetype": "text/x-python",
   "name": "python",
   "nbconvert_exporter": "python",
   "pygments_lexer": "ipython3",
   "version": "3.11.4"
  }
 },
 "nbformat": 4,
 "nbformat_minor": 2
}
