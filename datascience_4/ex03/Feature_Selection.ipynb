{
 "cells": [
  {
   "cell_type": "code",
   "execution_count": 2,
   "metadata": {},
   "outputs": [],
   "source": [
    "import os\n",
    "import pandas as pd\n",
    "import numpy as np\n",
    "import matplotlib.pyplot as plt\n",
    "\n",
    "from sklearn.linear_model import LinearRegression\n",
    "\n",
    "def load(path: str) -> pd.DataFrame:\n",
    "    \"\"\"Load a CSV file into a Dataset object.\n",
    "\n",
    "    Args:\n",
    "        path (str): path to the CSV file\n",
    "\n",
    "    Returns:\n",
    "        Dataset: object containing the data\n",
    "    \"\"\"\n",
    "    try:\n",
    "        if not path.lower().endswith((\"csv\")):\n",
    "            raise AssertionError(\"Only csv formats are supported.\")\n",
    "        local_dir = os.path.abspath('')\n",
    "        file_path = os.path.join(local_dir, path)\n",
    "        if not os.path.exists(file_path) or os.path.isdir(file_path):\n",
    "            raise AssertionError(\"File not found:\", file_path)\n",
    "        df = pd.read_csv(file_path)\n",
    "        return df\n",
    "    except AssertionError as error:\n",
    "        print(f\"{AssertionError.__name__}: {error}\")\n",
    "        return None"
   ]
  },
  {
   "cell_type": "code",
   "execution_count": 3,
   "metadata": {},
   "outputs": [],
   "source": [
    "test_knight = load(\"../Test_knight.csv\")"
   ]
  },
  {
   "cell_type": "code",
   "execution_count": 4,
   "metadata": {},
   "outputs": [],
   "source": [
    "def sklearn_vif(exogs, data):\n",
    "\n",
    "    # initialize dictionaries\n",
    "    vif_dict, tolerance_dict = {}, {}\n",
    "\n",
    "    # form input data for each exogenous variable\n",
    "    for exog in exogs:\n",
    "        not_exog = [i for i in exogs if i != exog]\n",
    "        X, y = data[not_exog], data[exog]\n",
    "\n",
    "        # extract r-squared from the fit\n",
    "        r_squared = LinearRegression().fit(X, y).score(X, y)\n",
    "\n",
    "        # calculate VIF\n",
    "        vif = 1/(1 - r_squared)\n",
    "        vif_dict[exog] = vif\n",
    "\n",
    "        # calculate tolerance\n",
    "        tolerance = 1 - r_squared\n",
    "        tolerance_dict[exog] = tolerance\n",
    "\n",
    "    # return VIF DataFrame\n",
    "    df_vif = pd.DataFrame({'VIF': vif_dict, 'Tolerance': tolerance_dict})\n",
    "\n",
    "    return df_vif"
   ]
  },
  {
   "cell_type": "code",
   "execution_count": 5,
   "metadata": {},
   "outputs": [
    {
     "name": "stdout",
     "output_type": "stream",
     "text": [
      "                       VIF  Tolerance\n",
      "Sensitivity    4282.499725   0.000234\n",
      "Hability         18.559728   0.053880\n",
      "Strength       4003.652047   0.000250\n",
      "Power           477.730519   0.002093\n",
      "Agility          13.713180   0.072923\n",
      "Dexterity        57.554993   0.017375\n",
      "Awareness        96.794082   0.010331\n",
      "Prescience       95.728833   0.010446\n",
      "Reactivity        5.860520   0.170633\n",
      "Midi-chlorien    25.555332   0.039131\n",
      "Slash           160.894576   0.006215\n",
      "Push              8.206184   0.121859\n",
      "Pull            133.100410   0.007513\n",
      "Lightsaber       94.559187   0.010575\n",
      "Survival          9.293929   0.107597\n",
      "Repulse          41.250309   0.024242\n",
      "Friendship       33.496386   0.029854\n",
      "Blocking         12.589272   0.079433\n",
      "Deflection        8.977914   0.111384\n",
      "Mass             15.562145   0.064258\n",
      "Recovery       1367.001571   0.000732\n",
      "Evade            31.477268   0.031769\n",
      "Stims          1047.514892   0.000955\n",
      "Sprint          605.793908   0.001651\n",
      "Combo            20.478328   0.048832\n",
      "Delay            67.869502   0.014734\n",
      "Attunement       50.176972   0.019929\n",
      "Empowered        50.842847   0.019668\n",
      "Burst            16.250516   0.061537\n",
      "Grasping         27.021861   0.037007\n"
     ]
    }
   ],
   "source": [
    "vif_data = sklearn_vif(test_knight.columns, test_knight)\n",
    "print(vif_data)"
   ]
  },
  {
   "cell_type": "code",
   "execution_count": 26,
   "metadata": {},
   "outputs": [
    {
     "name": "stdout",
     "output_type": "stream",
     "text": [
      "                 VIF  Tolerance\n",
      "Power       5.657272   0.176764\n",
      "Reactivity  2.213826   0.451707\n",
      "Push        2.130382   0.469399\n",
      "Lightsaber  5.238339   0.190900\n",
      "Repulse     2.492187   0.401254\n",
      "Blocking    2.520672   0.396720\n",
      "Deflection  2.323479   0.430389\n",
      "Evade       1.709947   0.584813\n",
      "Combo       1.395325   0.716679\n"
     ]
    }
   ],
   "source": [
    "df_filtered = test_knight.drop(columns=['Grasping', 'Agility', 'Survival', 'Burst',\n",
    "                                        'Mass', 'Prescience', 'Awareness', \n",
    "                                        'Recovery', 'Strength', 'Sensitivity',\n",
    "                                        'Slash', 'Hability', 'Stims', 'Delay',\n",
    "                                        'Attunement', 'Dexterity', 'Empowered',\n",
    "                                        'Sprint', 'Friendship', 'Pull', 'Midi-chlorien'], axis=1)\n",
    "df_filtered_vif = sklearn_vif(df_filtered.columns, df_filtered)\n",
    "print(df_filtered_vif)"
   ]
  },
  {
   "cell_type": "code",
   "execution_count": 39,
   "metadata": {},
   "outputs": [
    {
     "name": "stdout",
     "output_type": "stream",
     "text": [
      "                 VIF  Tolerance\n",
      "Hability    1.727515   0.578866\n",
      "Agility     2.058289   0.485840\n",
      "Reactivity  2.380483   0.420083\n",
      "Push        2.329757   0.429229\n",
      "Survival    2.697287   0.370743\n",
      "Blocking    2.197711   0.455019\n",
      "Deflection  2.102137   0.475706\n",
      "Mass        2.345453   0.426357\n",
      "Sprint      1.969148   0.507834\n",
      "Attunement  3.107786   0.321772\n"
     ]
    }
   ],
   "source": [
    "df_filtered_bis = test_knight.drop(columns=['Sensitivity', 'Strength', 'Recovery', 'Stims',\n",
    "                                            'Power', 'Awareness', 'Prescience',\n",
    "                                            'Slash', 'Pull', 'Lightsaber', 'Repulse', 'Friendship',\n",
    "                                            'Dexterity', 'Evade', 'Empowered', 'Midi-chlorien',\n",
    "                                            'Combo', 'Delay', 'Burst', 'Grasping'], axis=1)\n",
    "df_filtered_vif = sklearn_vif(df_filtered_bis.columns, df_filtered_bis)\n",
    "print(df_filtered_vif)"
   ]
  },
  {
   "cell_type": "code",
   "execution_count": null,
   "metadata": {},
   "outputs": [],
   "source": []
  }
 ],
 "metadata": {
  "kernelspec": {
   "display_name": "Python 3",
   "language": "python",
   "name": "python3"
  },
  "language_info": {
   "codemirror_mode": {
    "name": "ipython",
    "version": 3
   },
   "file_extension": ".py",
   "mimetype": "text/x-python",
   "name": "python",
   "nbconvert_exporter": "python",
   "pygments_lexer": "ipython3",
   "version": "3.11.4"
  }
 },
 "nbformat": 4,
 "nbformat_minor": 2
}
