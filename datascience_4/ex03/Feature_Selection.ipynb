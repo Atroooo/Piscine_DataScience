{
 "cells": [
  {
   "cell_type": "code",
   "execution_count": 1,
   "metadata": {},
   "outputs": [],
   "source": [
    "import os\n",
    "import pandas as pd\n",
    "import numpy as np\n",
    "import matplotlib.pyplot as plt\n",
    "\n",
    "from sklearn.linear_model import LinearRegression\n",
    "\n",
    "def load(path: str) -> pd.DataFrame:\n",
    "    \"\"\"Load a CSV file into a Dataset object.\n",
    "\n",
    "    Args:\n",
    "        path (str): path to the CSV file\n",
    "\n",
    "    Returns:\n",
    "        Dataset: object containing the data\n",
    "    \"\"\"\n",
    "    try:\n",
    "        if not path.lower().endswith((\"csv\")):\n",
    "            raise AssertionError(\"Only csv formats are supported.\")\n",
    "        local_dir = os.path.abspath('')\n",
    "        file_path = os.path.join(local_dir, path)\n",
    "        if not os.path.exists(file_path) or os.path.isdir(file_path):\n",
    "            raise AssertionError(\"File not found:\", file_path)\n",
    "        df = pd.read_csv(file_path)\n",
    "        return df\n",
    "    except AssertionError as error:\n",
    "        print(f\"{AssertionError.__name__}: {error}\")\n",
    "        return None"
   ]
  },
  {
   "cell_type": "code",
   "execution_count": 2,
   "metadata": {},
   "outputs": [],
   "source": [
    "test_knight = load(\"../Test_knight.csv\")"
   ]
  },
  {
   "cell_type": "code",
   "execution_count": 15,
   "metadata": {},
   "outputs": [],
   "source": [
    "def sklearn_vif(exogs, data):\n",
    "\n",
    "    # initialize dictionaries\n",
    "    vif_dict, tolerance_dict = {}, {}\n",
    "\n",
    "    # form input data for each exogenous variable\n",
    "    for exog in exogs:\n",
    "        not_exog = [i for i in exogs if i != exog]\n",
    "        X, y = data[not_exog], data[exog]\n",
    "\n",
    "        # extract r-squared from the fit\n",
    "        r_squared = LinearRegression().fit(X, y).score(X, y)\n",
    "\n",
    "        # calculate VIF\n",
    "        vif = 1/(1 - r_squared)\n",
    "        vif_dict[exog] = vif\n",
    "\n",
    "        # calculate tolerance\n",
    "        tolerance = 1 - r_squared\n",
    "        tolerance_dict[exog] = tolerance\n",
    "\n",
    "    # return VIF DataFrame\n",
    "    df_vif = pd.DataFrame({'VIF': vif_dict, 'Tolerance': tolerance_dict})\n",
    "\n",
    "    return df_vif"
   ]
  },
  {
   "cell_type": "code",
   "execution_count": 16,
   "metadata": {},
   "outputs": [
    {
     "name": "stdout",
     "output_type": "stream",
     "text": [
      "                       VIF  Tolerance\n",
      "Sensitivity    4282.499725   0.000234\n",
      "Hability         18.559728   0.053880\n",
      "Strength       4003.652047   0.000250\n",
      "Power           477.730519   0.002093\n",
      "Agility          13.713180   0.072923\n",
      "Dexterity        57.554993   0.017375\n",
      "Awareness        96.794082   0.010331\n",
      "Prescience       95.728833   0.010446\n",
      "Reactivity        5.860520   0.170633\n",
      "Midi-chlorien    25.555332   0.039131\n",
      "Slash           160.894576   0.006215\n",
      "Push              8.206184   0.121859\n",
      "Pull            133.100410   0.007513\n",
      "Lightsaber       94.559187   0.010575\n",
      "Survival          9.293929   0.107597\n",
      "Repulse          41.250309   0.024242\n",
      "Friendship       33.496386   0.029854\n",
      "Blocking         12.589272   0.079433\n",
      "Deflection        8.977914   0.111384\n",
      "Mass             15.562145   0.064258\n",
      "Recovery       1367.001571   0.000732\n",
      "Evade            31.477268   0.031769\n",
      "Stims          1047.514892   0.000955\n",
      "Sprint          605.793908   0.001651\n",
      "Combo            20.478328   0.048832\n",
      "Delay            67.869502   0.014734\n",
      "Attunement       50.176972   0.019929\n",
      "Empowered        50.842847   0.019668\n",
      "Burst            16.250516   0.061537\n",
      "Grasping         27.021861   0.037007\n"
     ]
    }
   ],
   "source": [
    "vif_data = sklearn_vif(test_knight.columns, test_knight)\n",
    "print(vif_data)"
   ]
  },
  {
   "cell_type": "code",
   "execution_count": 4,
   "metadata": {},
   "outputs": [],
   "source": [
    "df_filtered = test_knight.drop(columns=['Sensitivity', 'Recovery', 'Stims'], axis=1)"
   ]
  },
  {
   "cell_type": "code",
   "execution_count": 5,
   "metadata": {},
   "outputs": [
    {
     "name": "stdout",
     "output_type": "stream",
     "text": [
      "                      VIF  Tolerance\n",
      "Hability        17.199580   0.058141\n",
      "Strength       131.986245   0.007577\n",
      "Power          198.044141   0.005049\n",
      "Agility         13.146475   0.076066\n",
      "Dexterity       43.580727   0.022946\n",
      "Awareness       85.340525   0.011718\n",
      "Prescience      91.947780   0.010876\n",
      "Reactivity       5.484956   0.182317\n",
      "Midi-chlorien   23.034040   0.043414\n",
      "Slash           56.974056   0.017552\n",
      "Push             7.504639   0.133251\n",
      "Pull            37.155130   0.026914\n",
      "Lightsaber      51.037750   0.019593\n",
      "Survival         8.802721   0.113601\n",
      "Repulse         40.073538   0.024954\n",
      "Friendship      30.934352   0.032327\n",
      "Blocking        11.182004   0.089429\n",
      "Deflection       8.361704   0.119593\n",
      "Mass            14.990690   0.066708\n",
      "Evade           29.235687   0.034205\n",
      "Sprint          65.076352   0.015367\n",
      "Combo           19.633832   0.050932\n",
      "Delay           66.971896   0.014932\n",
      "Attunement      48.756242   0.020510\n",
      "Empowered       45.229380   0.022110\n",
      "Burst           14.959962   0.066845\n",
      "Grasping        24.598993   0.040652\n"
     ]
    }
   ],
   "source": [
    "df_filtered_vif = sklearn_vif(df_filtered.columns, df_filtered)\n",
    "print(df_filtered_vif)"
   ]
  },
  {
   "cell_type": "code",
   "execution_count": 6,
   "metadata": {},
   "outputs": [],
   "source": [
    "df_filtered_bis = df_filtered.drop(columns=['Power', 'Lightsaber', 'Delay'], axis = 1)"
   ]
  },
  {
   "cell_type": "code",
   "execution_count": 7,
   "metadata": {},
   "outputs": [
    {
     "name": "stdout",
     "output_type": "stream",
     "text": [
      "                     VIF  Tolerance\n",
      "Hability       16.356239   0.061139\n",
      "Strength       28.629658   0.034929\n",
      "Agility        12.447979   0.080334\n",
      "Dexterity      31.353475   0.031894\n",
      "Awareness      83.336210   0.012000\n",
      "Prescience     88.158844   0.011343\n",
      "Reactivity      5.071919   0.197164\n",
      "Midi-chlorien  20.697244   0.048316\n",
      "Slash          35.301499   0.028327\n",
      "Push            6.797541   0.147112\n",
      "Pull           34.147277   0.029285\n",
      "Survival        8.543165   0.117053\n",
      "Repulse        17.169467   0.058243\n",
      "Friendship     21.142101   0.047299\n",
      "Blocking        9.154886   0.109231\n",
      "Deflection      8.300514   0.120474\n",
      "Mass           11.264950   0.088771\n",
      "Evade          27.219278   0.036739\n",
      "Sprint         21.092790   0.047410\n",
      "Combo          19.065619   0.052450\n",
      "Attunement     30.824034   0.032442\n",
      "Empowered      44.066974   0.022693\n",
      "Burst          14.214436   0.070351\n",
      "Grasping       16.928737   0.059071\n"
     ]
    }
   ],
   "source": [
    "df_filtered_vif_bis = sklearn_vif(df_filtered_bis.columns, df_filtered_bis)\n",
    "print(df_filtered_vif_bis)"
   ]
  },
  {
   "cell_type": "code",
   "execution_count": 8,
   "metadata": {},
   "outputs": [],
   "source": [
    "df_filtered_ter = df_filtered_bis.drop(columns=['Prescience', 'Empowered', 'Attunement'], axis = 1)"
   ]
  },
  {
   "cell_type": "code",
   "execution_count": 9,
   "metadata": {},
   "outputs": [
    {
     "name": "stdout",
     "output_type": "stream",
     "text": [
      "                     VIF  Tolerance\n",
      "Hability       16.283643   0.061411\n",
      "Strength       24.492265   0.040829\n",
      "Agility        11.749360   0.085111\n",
      "Dexterity      30.397922   0.032897\n",
      "Awareness      19.458128   0.051392\n",
      "Reactivity      4.777634   0.209309\n",
      "Midi-chlorien  17.313470   0.057758\n",
      "Slash          34.958550   0.028605\n",
      "Push            6.744233   0.148275\n",
      "Pull           33.439072   0.029905\n",
      "Survival        7.886164   0.126804\n",
      "Repulse        16.872529   0.059268\n",
      "Friendship     12.185051   0.082068\n",
      "Blocking        3.690285   0.270982\n",
      "Deflection      7.643153   0.130836\n",
      "Mass           10.890157   0.091826\n",
      "Evade          27.077850   0.036931\n",
      "Sprint         20.825003   0.048019\n",
      "Combo          18.022957   0.055485\n",
      "Burst          12.003183   0.083311\n",
      "Grasping       12.727508   0.078570\n"
     ]
    }
   ],
   "source": [
    "df_filtered_vif_ter = sklearn_vif(df_filtered_ter.columns, df_filtered_ter)\n",
    "print(df_filtered_vif_ter)"
   ]
  },
  {
   "cell_type": "code",
   "execution_count": 10,
   "metadata": {},
   "outputs": [],
   "source": [
    "df_filtered_quart = df_filtered_ter.drop(columns=['Slash', 'Evade', 'Pull'], axis = 1)"
   ]
  },
  {
   "cell_type": "code",
   "execution_count": 11,
   "metadata": {},
   "outputs": [
    {
     "name": "stdout",
     "output_type": "stream",
     "text": [
      "                     VIF  Tolerance\n",
      "Hability        1.929257   0.518334\n",
      "Strength       23.370503   0.042789\n",
      "Agility        10.510475   0.095143\n",
      "Dexterity      28.565108   0.035008\n",
      "Awareness      19.106904   0.052337\n",
      "Reactivity      4.574059   0.218624\n",
      "Midi-chlorien  17.291073   0.057833\n",
      "Push            2.955411   0.338362\n",
      "Survival        6.361075   0.157206\n",
      "Repulse        16.157161   0.061892\n",
      "Friendship     11.390170   0.087795\n",
      "Blocking        3.634953   0.275107\n",
      "Deflection      6.269639   0.159499\n",
      "Mass           10.659775   0.093811\n",
      "Sprint         10.800250   0.092590\n",
      "Combo          14.938275   0.066942\n",
      "Burst          10.558670   0.094709\n",
      "Grasping       12.505744   0.079963\n"
     ]
    }
   ],
   "source": [
    "df_filtered_vif_quart = sklearn_vif(df_filtered_quart.columns, df_filtered_quart)\n",
    "print(df_filtered_vif_quart)"
   ]
  },
  {
   "cell_type": "code",
   "execution_count": 12,
   "metadata": {},
   "outputs": [
    {
     "name": "stdout",
     "output_type": "stream",
     "text": [
      "                     VIF  Tolerance\n",
      "Hability        1.898638   0.526693\n",
      "Agility         9.315447   0.107349\n",
      "Reactivity      4.508369   0.221810\n",
      "Midi-chlorien   9.582496   0.104357\n",
      "Push            2.757160   0.362692\n",
      "Survival        6.125782   0.163244\n",
      "Repulse         9.327463   0.107210\n",
      "Friendship      6.282198   0.159180\n",
      "Blocking        3.521637   0.283959\n",
      "Deflection      6.084139   0.164362\n",
      "Mass            8.345522   0.119825\n",
      "Sprint          1.976215   0.506018\n",
      "Combo          14.293303   0.069963\n",
      "Burst          10.061622   0.099388\n",
      "Grasping       12.149290   0.082309\n"
     ]
    }
   ],
   "source": [
    "df_filtered_quint = df_filtered_quart.drop(columns=['Strength', 'Dexterity', 'Awareness'], axis = 1)\n",
    "df_filtered_vif_quint = sklearn_vif(df_filtered_quint.columns, df_filtered_quint)\n",
    "print(df_filtered_vif_quint)"
   ]
  },
  {
   "cell_type": "code",
   "execution_count": 13,
   "metadata": {},
   "outputs": [
    {
     "name": "stdout",
     "output_type": "stream",
     "text": [
      "                    VIF  Tolerance\n",
      "Hability       1.716942   0.582431\n",
      "Agility        2.968560   0.336864\n",
      "Reactivity     2.396603   0.417257\n",
      "Midi-chlorien  5.595413   0.178718\n",
      "Push           2.315698   0.431835\n",
      "Survival       2.454927   0.407344\n",
      "Repulse        8.588565   0.116434\n",
      "Friendship     6.275007   0.159362\n",
      "Blocking       3.123435   0.320160\n",
      "Deflection     2.365746   0.422700\n",
      "Mass           6.929641   0.144308\n",
      "Sprint         1.907905   0.524135\n"
     ]
    }
   ],
   "source": [
    "df_filtered_sext = df_filtered_quint.drop(columns=['Combo', 'Burst', 'Grasping'], axis = 1)\n",
    "df_filtered_vif_sext = sklearn_vif(df_filtered_sext.columns, df_filtered_sext)\n",
    "print(df_filtered_vif_sext)"
   ]
  },
  {
   "cell_type": "code",
   "execution_count": 14,
   "metadata": {},
   "outputs": [
    {
     "name": "stdout",
     "output_type": "stream",
     "text": [
      "                    VIF  Tolerance\n",
      "Hability       1.688203   0.592346\n",
      "Agility        2.939538   0.340189\n",
      "Reactivity     2.378126   0.420499\n",
      "Midi-chlorien  5.490502   0.182133\n",
      "Push           2.296834   0.435382\n",
      "Survival       2.450243   0.408123\n",
      "Friendship     3.871245   0.258315\n",
      "Blocking       3.121487   0.320360\n",
      "Deflection     2.163242   0.462269\n",
      "Mass           4.907832   0.203756\n",
      "Sprint         1.904134   0.525173\n"
     ]
    }
   ],
   "source": [
    "df_filtered_sept = df_filtered_sext.drop(columns=['Repulse'], axis = 1)\n",
    "df_filtered_vif_sept = sklearn_vif(df_filtered_sept.columns, df_filtered_sept)\n",
    "print(df_filtered_vif_sept)"
   ]
  },
  {
   "cell_type": "code",
   "execution_count": null,
   "metadata": {},
   "outputs": [],
   "source": []
  }
 ],
 "metadata": {
  "kernelspec": {
   "display_name": "Python 3",
   "language": "python",
   "name": "python3"
  },
  "language_info": {
   "codemirror_mode": {
    "name": "ipython",
    "version": 3
   },
   "file_extension": ".py",
   "mimetype": "text/x-python",
   "name": "python",
   "nbconvert_exporter": "python",
   "pygments_lexer": "ipython3",
   "version": "3.11.4"
  }
 },
 "nbformat": 4,
 "nbformat_minor": 2
}
