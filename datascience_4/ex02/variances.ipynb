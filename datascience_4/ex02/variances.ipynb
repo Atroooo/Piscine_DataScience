{
 "cells": [
  {
   "cell_type": "code",
   "execution_count": 23,
   "metadata": {},
   "outputs": [],
   "source": [
    "import os\n",
    "import pandas as pd\n",
    "import numpy as np\n",
    "import matplotlib.pyplot as plt\n",
    "\n",
    "import sklearn as sl\n",
    "from sklearn.preprocessing import StandardScaler as ss\n",
    "from sklearn.decomposition import PCA \n",
    "\n",
    "\n",
    "\n",
    "def load(path: str) -> pd.DataFrame:\n",
    "    \"\"\"Load a CSV file into a Dataset object.\n",
    "\n",
    "    Args:\n",
    "        path (str): path to the CSV file\n",
    "\n",
    "    Returns:\n",
    "        Dataset: object containing the data\n",
    "    \"\"\"\n",
    "    try:\n",
    "        if not path.lower().endswith((\"csv\")):\n",
    "            raise AssertionError(\"Only csv formats are supported.\")\n",
    "        local_dir = os.path.abspath('')\n",
    "        file_path = os.path.join(local_dir, path)\n",
    "        if not os.path.exists(file_path) or os.path.isdir(file_path):\n",
    "            raise AssertionError(\"File not found:\", file_path)\n",
    "        df = pd.read_csv(file_path)\n",
    "        return df\n",
    "    except AssertionError as error:\n",
    "        print(f\"{AssertionError.__name__}: {error}\")\n",
    "        return None"
   ]
  },
  {
   "cell_type": "code",
   "execution_count": 24,
   "metadata": {},
   "outputs": [],
   "source": [
    "test_knight = load(\"../Test_knight.csv\")"
   ]
  },
  {
   "cell_type": "code",
   "execution_count": 26,
   "metadata": {},
   "outputs": [
    {
     "name": "stdout",
     "output_type": "stream",
     "text": [
      "Sensitivity          14.132881\n",
      "Hability             21.251915\n",
      "Strength            675.999600\n",
      "Power            145277.392861\n",
      "Agility               0.000229\n",
      "Dexterity             0.003237\n",
      "Awareness             0.006648\n",
      "Prescience            0.001717\n",
      "Reactivity            0.000859\n",
      "Midi-chlorien         0.000064\n",
      "Slash                 0.065219\n",
      "Push                  0.308469\n",
      "Pull                  3.369613\n",
      "Lightsaber         1620.559298\n",
      "Survival              0.000010\n",
      "Repulse               0.000424\n",
      "Friendship            0.000675\n",
      "Blocking              0.000037\n",
      "Deflection            0.000100\n",
      "Mass                  0.000008\n",
      "Recovery             27.475459\n",
      "Evade                42.326589\n",
      "Stims              1318.103509\n",
      "Sprint           408283.903926\n",
      "Combo                 0.000517\n",
      "Delay                 0.022674\n",
      "Attunement            0.036849\n",
      "Empowered             0.004436\n",
      "Burst                 0.004971\n",
      "Grasping              0.000293\n",
      "dtype: float64\n"
     ]
    }
   ],
   "source": [
    "total_variance = test_knight.var().sum() #might need to be standardised\n",
    "pct_variance = (test_knight.var())\n",
    "print(pct_variance)"
   ]
  },
  {
   "cell_type": "code",
   "execution_count": 53,
   "metadata": {},
   "outputs": [],
   "source": [
    "st = ss().fit_transform(test_knight)\n",
    "pca = PCA(0.99)\n",
    "pc = pca.fit_transform(st)"
   ]
  },
  {
   "cell_type": "code",
   "execution_count": 54,
   "metadata": {},
   "outputs": [
    {
     "name": "stdout",
     "output_type": "stream",
     "text": [
      "[0.45325397 0.20918077 0.08988223 0.06354561 0.0540255  0.04104506\n",
      " 0.01970586 0.01248169 0.0099581  0.00864213 0.00842696 0.0070612\n",
      " 0.00613493 0.00460575 0.00259258]\n"
     ]
    }
   ],
   "source": [
    "print(pca.explained_variance_ratio_)"
   ]
  },
  {
   "cell_type": "code",
   "execution_count": 55,
   "metadata": {},
   "outputs": [
    {
     "data": {
      "image/png": "[encoded data removed]",
      "text/plain": [
       "<Figure size 640x480 with 1 Axes>"
      ]
     },
     "metadata": {},
     "output_type": "display_data"
    }
   ],
   "source": [
    "explained_variance = pca.explained_variance_ratio_\n",
    "\n",
    "cumulative_variance = np.cumsum(explained_variance)\n",
    "pct_explained_variance = cumulative_variance * 100 \n",
    "\n",
    "\n",
    "plt.plot(range(1, len(explained_variance) + 1), pct_explained_variance)\n",
    "plt.xlabel('Number of Components')\n",
    "plt.ylabel('Percentage of Variance Explained (%)')\n",
    "plt.show()"
   ]
  },
  {
   "cell_type": "code",
   "execution_count": 56,
   "metadata": {},
   "outputs": [
    {
     "name": "stdout",
     "output_type": "stream",
     "text": [
      "    Component  Explained Variance (%)\n",
      "0           1               45.325397\n",
      "1           2               20.918077\n",
      "2           3                8.988223\n",
      "3           4                6.354561\n",
      "4           5                5.402550\n",
      "5           6                4.104506\n",
      "6           7                1.970586\n",
      "7           8                1.248169\n",
      "8           9                0.995810\n",
      "9          10                0.864213\n",
      "10         11                0.842696\n",
      "11         12                0.706120\n",
      "12         13                0.613493\n",
      "13         14                0.460575\n",
      "14         15                0.259258\n"
     ]
    }
   ],
   "source": [
    "components = range(1, len(explained_variance) + 1)  # Component numbers\n",
    "variance_explained = explained_variance * 100  # Convert to percentage\n",
    "\n",
    "df = pd.DataFrame({'Component': components, 'Explained Variance (%)': variance_explained})\n",
    "print(df)"
   ]
  },
  {
   "cell_type": "code",
   "execution_count": null,
   "metadata": {},
   "outputs": [],
   "source": []
  }
 ],
 "metadata": {
  "kernelspec": {
   "display_name": "Python 3",
   "language": "python",
   "name": "python3"
  },
  "language_info": {
   "codemirror_mode": {
    "name": "ipython",
    "version": 3
   },
   "file_extension": ".py",
   "mimetype": "text/x-python",
   "name": "python",
   "nbconvert_exporter": "python",
   "pygments_lexer": "ipython3",
   "version": "3.11.4"
  }
 },
 "nbformat": 4,
 "nbformat_minor": 2
}
